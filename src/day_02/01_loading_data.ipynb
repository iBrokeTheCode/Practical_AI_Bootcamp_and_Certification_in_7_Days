{
 "cells": [
  {
   "cell_type": "markdown",
   "id": "3482deef",
   "metadata": {},
   "source": [
    "# Loading and Inspecting Data\n",
    "\n",
    "- Download a dataset from [Kaggle](https://www.kaggle.com/datasets)"
   ]
  },
  {
   "cell_type": "code",
   "execution_count": null,
   "id": "fc6fe64a",
   "metadata": {},
   "outputs": [
    {
     "name": "stdout",
     "output_type": "stream",
     "text": [
      "   application_id  gender  international   gpa       major      race   gmat  \\\n",
      "0               1  Female          False  3.30    Business     Asian  620.0   \n",
      "1               2    Male          False  3.28  Humanities     Black  680.0   \n",
      "2               3  Female           True  3.30    Business       NaN  710.0   \n",
      "3               4    Male          False  3.47        STEM     Black  690.0   \n",
      "4               5    Male          False  3.35        STEM  Hispanic  590.0   \n",
      "\n",
      "   work_exp          work_industry admission  \n",
      "0       3.0     Financial Services     Admit  \n",
      "1       5.0  Investment Management       NaN  \n",
      "2       5.0             Technology     Admit  \n",
      "3       6.0             Technology       NaN  \n",
      "4       5.0             Consulting       NaN  \n"
     ]
    }
   ],
   "source": [
    "import pandas as pd\n",
    "\n",
    "df = pd.read_csv(\"./data/MBA.csv\")\n",
    "\n",
    "# Print first records\n",
    "print(df.head())"
   ]
  },
  {
   "cell_type": "code",
   "execution_count": null,
   "id": "ffce9511",
   "metadata": {},
   "outputs": [
    {
     "name": "stdout",
     "output_type": "stream",
     "text": [
      "(6194, 10)\n"
     ]
    }
   ],
   "source": [
    "# Print the dimensionality of the dataframe\n",
    "print(df.shape)"
   ]
  },
  {
   "cell_type": "code",
   "execution_count": null,
   "id": "3fcece6b",
   "metadata": {},
   "outputs": [
    {
     "name": "stdout",
     "output_type": "stream",
     "text": [
      "Index(['application_id', 'gender', 'international', 'gpa', 'major', 'race',\n",
      "       'gmat', 'work_exp', 'work_industry', 'admission'],\n",
      "      dtype='object')\n"
     ]
    }
   ],
   "source": [
    "# Print the columns names\n",
    "print(df.columns)"
   ]
  },
  {
   "cell_type": "code",
   "execution_count": null,
   "id": "f3d814bc",
   "metadata": {},
   "outputs": [
    {
     "name": "stdout",
     "output_type": "stream",
     "text": [
      "<class 'pandas.core.frame.DataFrame'>\n",
      "RangeIndex: 6194 entries, 0 to 6193\n",
      "Data columns (total 10 columns):\n",
      " #   Column          Non-Null Count  Dtype  \n",
      "---  ------          --------------  -----  \n",
      " 0   application_id  6194 non-null   int64  \n",
      " 1   gender          6194 non-null   object \n",
      " 2   international   6194 non-null   bool   \n",
      " 3   gpa             6194 non-null   float64\n",
      " 4   major           6194 non-null   object \n",
      " 5   race            4352 non-null   object \n",
      " 6   gmat            6194 non-null   float64\n",
      " 7   work_exp        6194 non-null   float64\n",
      " 8   work_industry   6194 non-null   object \n",
      " 9   admission       1000 non-null   object \n",
      "dtypes: bool(1), float64(3), int64(1), object(5)\n",
      "memory usage: 441.7+ KB\n",
      "None\n"
     ]
    }
   ],
   "source": [
    "# Print a concise summary of the dataframe\n",
    "print(df.info())"
   ]
  }
 ],
 "metadata": {
  "kernelspec": {
   "display_name": ".venv",
   "language": "python",
   "name": "python3"
  },
  "language_info": {
   "codemirror_mode": {
    "name": "ipython",
    "version": 3
   },
   "file_extension": ".py",
   "mimetype": "text/x-python",
   "name": "python",
   "nbconvert_exporter": "python",
   "pygments_lexer": "ipython3",
   "version": "3.12.3"
  }
 },
 "nbformat": 4,
 "nbformat_minor": 5
}
