{
 "cells": [
  {
   "cell_type": "markdown",
   "id": "810ee478",
   "metadata": {},
   "source": [
    "# Data Transformation and Feature Engineering"
   ]
  },
  {
   "cell_type": "code",
   "execution_count": null,
   "id": "479348cd",
   "metadata": {
    "vscode": {
     "languageId": "plaintext"
    }
   },
   "outputs": [],
   "source": [
    "from sklearn.preprocessing import MinMaxScaler\n",
    "\n",
    "scaler = MinMaxScaler()\n",
    "\n",
    "data[['Age', 'Income']] = scaler.fir_transform(data[['Age', 'Income']])"
   ]
  },
  {
   "cell_type": "code",
   "execution_count": null,
   "id": "87e9967c",
   "metadata": {
    "vscode": {
     "languageId": "plaintext"
    }
   },
   "outputs": [],
   "source": [
    "data_encoded = pd.get_dummies(data, columns=['Gender', 'Purchased'])"
   ]
  }
 ],
 "metadata": {
  "language_info": {
   "name": "python"
  }
 },
 "nbformat": 4,
 "nbformat_minor": 5
}
