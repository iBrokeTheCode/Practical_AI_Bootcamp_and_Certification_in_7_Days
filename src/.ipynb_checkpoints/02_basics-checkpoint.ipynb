{
 "cells": [
  {
   "cell_type": "markdown",
   "id": "9e8ea53d-fc59-46fd-92bb-9a2a5bb28b56",
   "metadata": {},
   "source": [
    "# Python Basics"
   ]
  },
  {
   "cell_type": "markdown",
   "id": "415b56b7-e590-4a4d-91b9-166164eebf8c",
   "metadata": {},
   "source": [
    "## Variables and Data Types"
   ]
  },
  {
   "cell_type": "code",
   "execution_count": 4,
   "id": "4ec32165-ab50-410c-9670-4e1ea269dbfd",
   "metadata": {},
   "outputs": [],
   "source": [
    "x = 5\n",
    "y = 2.5\n",
    "name = \"Vivian\"\n",
    "is_student = False"
   ]
  },
  {
   "cell_type": "markdown",
   "id": "121bd804-532d-42ec-9fb1-bf8d04cb0d73",
   "metadata": {},
   "source": [
    "## Operators"
   ]
  },
  {
   "cell_type": "code",
   "execution_count": 8,
   "id": "0b9f1d1d-1c40-4e85-bb51-acbebec309f9",
   "metadata": {},
   "outputs": [
    {
     "name": "stdout",
     "output_type": "stream",
     "text": [
      "7.5\n",
      "12.5\n",
      "25\n"
     ]
    }
   ],
   "source": [
    "# Operators +, -, *, /, **, %\n",
    "\n",
    "_sum = x + y\n",
    "_product = x * y\n",
    "_power = x ** 2\n",
    "\n",
    "print(_sum, _product, _power, sep='\\n')"
   ]
  },
  {
   "cell_type": "markdown",
   "id": "255d18a5-298b-44e2-a7d6-2f988ab448ff",
   "metadata": {},
   "source": [
    "## Control Flow"
   ]
  },
  {
   "cell_type": "markdown",
   "id": "25caeb4f-4ee3-4f2c-8c82-d9f8f70150f2",
   "metadata": {},
   "source": [
    "### Conditional Statements"
   ]
  },
  {
   "cell_type": "code",
   "execution_count": 10,
   "id": "965be9e7-d2dd-47c5-93ff-c6d42676e3fe",
   "metadata": {},
   "outputs": [
    {
     "name": "stdout",
     "output_type": "stream",
     "text": [
      "5 is greater than 2.5\n"
     ]
    }
   ],
   "source": [
    "if x > y:\n",
    "    print(f\"{x} is greater than {y}\")\n",
    "else:\n",
    "    print(f\"{x} is less than or equal to {y}\")\n",
    "    "
   ]
  },
  {
   "cell_type": "markdown",
   "id": "ab2627ee-1311-457a-8472-daff68eb48d4",
   "metadata": {},
   "source": [
    "### For Loop"
   ]
  },
  {
   "cell_type": "code",
   "execution_count": 12,
   "id": "d9c7deb7-b632-4ae6-a8e3-946b9d9c7326",
   "metadata": {},
   "outputs": [
    {
     "name": "stdout",
     "output_type": "stream",
     "text": [
      "0\n",
      "1\n",
      "2\n",
      "3\n",
      "4\n"
     ]
    }
   ],
   "source": [
    "for i in range(5):\n",
    "    print(i)"
   ]
  },
  {
   "cell_type": "markdown",
   "id": "edb91e1a-34fb-42cd-b750-6044c1e5ae3a",
   "metadata": {},
   "source": [
    "### While Loop"
   ]
  },
  {
   "cell_type": "code",
   "execution_count": 1,
   "id": "0742eabe-5ce2-4d43-8f1c-b362860442de",
   "metadata": {},
   "outputs": [
    {
     "name": "stdout",
     "output_type": "stream",
     "text": [
      "3\n",
      "4\n",
      "5\n",
      "6\n",
      "7\n"
     ]
    }
   ],
   "source": [
    "j = 3\n",
    "while j <= 7:\n",
    "    print(j)\n",
    "    j += 1"
   ]
  },
  {
   "cell_type": "markdown",
   "id": "d8363c0d-427f-486f-82e0-2ed486839e47",
   "metadata": {},
   "source": [
    "## Functions"
   ]
  },
  {
   "cell_type": "code",
   "execution_count": 3,
   "id": "7596d178-9d26-4122-ad51-e983cc1b4bf0",
   "metadata": {},
   "outputs": [
    {
     "name": "stdout",
     "output_type": "stream",
     "text": [
      "Hello Python!\n"
     ]
    }
   ],
   "source": [
    "def greet(name: str) -> str:\n",
    "    return f\"Hello {name}!\"\n",
    "\n",
    "print(greet(\"Python\"))"
   ]
  },
  {
   "cell_type": "markdown",
   "id": "212c21b0-b864-4ba8-aec5-df3291ce4c41",
   "metadata": {},
   "source": [
    "## Lists"
   ]
  },
  {
   "cell_type": "code",
   "execution_count": 5,
   "id": "7389a992-a5fa-4d85-8218-67515a5d42a5",
   "metadata": {},
   "outputs": [
    {
     "name": "stdout",
     "output_type": "stream",
     "text": [
      "3\n",
      "[1, 2, 3, 4, 5, 7]\n"
     ]
    }
   ],
   "source": [
    "numbers = [1, 2, 3, 4, 5]\n",
    "print(numbers[2])\n",
    "\n",
    "numbers.append(7)\n",
    "print(numbers)"
   ]
  },
  {
   "cell_type": "markdown",
   "id": "c3125254-6005-4580-a6fc-d7396e8b6fdc",
   "metadata": {},
   "source": [
    "## Dictionaries"
   ]
  },
  {
   "cell_type": "code",
   "execution_count": 6,
   "id": "08230c31-9471-433b-9fe2-f407dd43fbf2",
   "metadata": {},
   "outputs": [
    {
     "name": "stdout",
     "output_type": "stream",
     "text": [
      "John Doe\n"
     ]
    }
   ],
   "source": [
    "student = {\n",
    "    \"name\": \"John Doe\",\n",
    "    \"age\": 27,\n",
    "    \"is_student\": True\n",
    "}\n",
    "\n",
    "print(student[\"name\"])"
   ]
  },
  {
   "cell_type": "code",
   "execution_count": null,
   "id": "7d75c045-7766-4d21-8718-5df3306de239",
   "metadata": {},
   "outputs": [],
   "source": []
  }
 ],
 "metadata": {
  "kernelspec": {
   "display_name": "Python 3 (ipykernel)",
   "language": "python",
   "name": "python3"
  },
  "language_info": {
   "codemirror_mode": {
    "name": "ipython",
    "version": 3
   },
   "file_extension": ".py",
   "mimetype": "text/x-python",
   "name": "python",
   "nbconvert_exporter": "python",
   "pygments_lexer": "ipython3",
   "version": "3.12.3"
  }
 },
 "nbformat": 4,
 "nbformat_minor": 5
}
