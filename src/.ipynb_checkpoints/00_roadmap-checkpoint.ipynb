{
 "cells": [
  {
   "cell_type": "markdown",
   "id": "a939bb3b-0bfa-40bd-84c0-97087192638d",
   "metadata": {},
   "source": [
    "# Day 1: Python for AI Basics\n",
    "\n",
    "### Objective:\n",
    "\n",
    "The goal for Day 1 is to get familiar with Python, focusing on fundamental programming skills that are essential for AI development. We will start with basic Python constructs and work our way up to using popular libraries like NumPy and Pandas for data manipulation.\n",
    "\n",
    "### Learning Outcomes\n",
    "\n",
    "#### By the end of the day, we will:\n",
    "\n",
    "- Understand basic Python syntax and how to write simple Python programs.\n",
    "- Use variables, data types, and operators effectively.\n",
    "- Write functions, use loops, and implement control flow (if-else).\n",
    "- Read and write to files.\n",
    "- Have an introduction to two core libraries, NumPy and Pandas, which are foundational for AI development.\n"
   ]
  },
  {
   "cell_type": "markdown",
   "id": "d9a65bb8-0761-4fdf-b4fb-92b8e8c5bf85",
   "metadata": {
    "jp-MarkdownHeadingCollapsed": true
   },
   "source": [
    "## Introduction to Python Programming"
   ]
  },
  {
   "cell_type": "markdown",
   "id": "cbd8c5cd-c6ae-49d6-8fde-defcb90e466e",
   "metadata": {},
   "source": [
    "- What is Python?\n",
    "\n",
    "- Installation and Setup\n",
    "\n",
    "- Hello World Program"
   ]
  },
  {
   "cell_type": "markdown",
   "id": "cb48b03f-da6c-497e-9ce7-afeedd8a84fa",
   "metadata": {
    "jp-MarkdownHeadingCollapsed": true
   },
   "source": [
    "## Python Basics"
   ]
  },
  {
   "cell_type": "markdown",
   "id": "92f36919-fae2-4704-aac3-476601563421",
   "metadata": {},
   "source": [
    "- Variables and Data Types\n",
    "\n",
    "- Operators\n",
    "\n",
    "- Control Flow\n",
    "\n",
    "- Functions"
   ]
  },
  {
   "cell_type": "markdown",
   "id": "46eedd0a-8918-40c4-a2bc-b69812ba7c0c",
   "metadata": {
    "jp-MarkdownHeadingCollapsed": true
   },
   "source": [
    "## Working with Lists and Dictionaries"
   ]
  },
  {
   "cell_type": "markdown",
   "id": "dd7383d5-000c-4d51-a48b-0696f283af4a",
   "metadata": {},
   "source": [
    "- Lists\n",
    "  \n",
    "- Dictionaries"
   ]
  },
  {
   "cell_type": "markdown",
   "id": "36716ca1-d42e-46d1-9afe-5c549df9cd08",
   "metadata": {},
   "source": [
    "## Introduction to NumPy"
   ]
  },
  {
   "cell_type": "markdown",
   "id": "e3e938d4-f5c0-4c1e-b0f1-3578f5bb96d0",
   "metadata": {},
   "source": [
    "Review the [source code](./02_numpy.ipynb)\n",
    "\n",
    "- What is NumPy?\n",
    "\n",
    "- Creating Arrays\n",
    "\n",
    "- Matrix Operations"
   ]
  },
  {
   "cell_type": "markdown",
   "id": "dfdcefb8-20e5-44ad-9eb3-7fe224f14d6d",
   "metadata": {
    "jp-MarkdownHeadingCollapsed": true
   },
   "source": [
    "## Introduction to Pandas"
   ]
  },
  {
   "cell_type": "markdown",
   "id": "b391e592-0de2-4ff5-bf9e-912783b80da3",
   "metadata": {},
   "source": [
    "- What is Pandas?\n",
    "\n",
    "- Loading and Inspecting Data\n",
    "\n",
    "- Data Manipulation"
   ]
  },
  {
   "cell_type": "markdown",
   "id": "350e1d6f-2e69-492e-b72c-51e95446c00a",
   "metadata": {
    "jp-MarkdownHeadingCollapsed": true
   },
   "source": [
    "## Hands-on Project: Basic Data Manipulation and File Handling"
   ]
  },
  {
   "cell_type": "markdown",
   "id": "8546dcae-a194-4bce-bf13-25a400ffb0cb",
   "metadata": {
    "jp-MarkdownHeadingCollapsed": true
   },
   "source": [
    "Task: Build a small program that reads from a text file, processes the content, and writes the results to another file.\n",
    "\n",
    "#### Steps:\n",
    "- Read a text file with multiple lines of numbers (e.g., numbers.txt).\n",
    "- Process the data by converting each number to its square.\n",
    "- Write the output to another file (e.g., output.txt)."
   ]
  },
  {
   "cell_type": "markdown",
   "id": "706af461-f06e-4c92-abe7-aeca9788222f",
   "metadata": {
    "jp-MarkdownHeadingCollapsed": true
   },
   "source": [
    "## Exercises:"
   ]
  },
  {
   "cell_type": "markdown",
   "id": "d5e16c31-3db6-4e85-986a-1d63c2f7a2d2",
   "metadata": {},
   "source": [
    "- Create a list of 10 numbers and write a Python program to print the square of each number.\n",
    "- Modify the above code to read a CSV file, select specific columns, and write the output to a new CSV file.\n",
    "- Use NumPy to create a 3x3 matrix and compute its determinant."
   ]
  },
  {
   "cell_type": "markdown",
   "id": "65fd76ff-d62d-4a4f-91a7-bbafc89abc4b",
   "metadata": {
    "jp-MarkdownHeadingCollapsed": true
   },
   "source": [
    "# Day 2: Exploratory Data Analysis (EDA)\n",
    "\n",
    "### Objective:\n",
    "\n",
    "Day 2 focuses on data exploration, cleaning, and visualization. We will load datasets, handle missing values, and visualize data using popular libraries like Pandas, Matplotlib, and Seaborn. This sets the groundwork for understanding data before building any machine learning models.\n",
    "\n",
    "### Learning Outcomes\n",
    "\n",
    "#### By the end of the day, we will:\n",
    "\n",
    "- Be able to load data from various file formats (CSV, Excel).\n",
    "- Clean and preprocess data by handling missing values and outliers.\n",
    "- Create insightful data visualizations to explore relationships between variables.\n",
    "- Understand basic descriptive statistics and their role in data analysis."
   ]
  },
  {
   "cell_type": "markdown",
   "id": "41227661-181c-4147-be41-597007f943d6",
   "metadata": {
    "jp-MarkdownHeadingCollapsed": true
   },
   "source": [
    "## Loading and Inspecting Data"
   ]
  },
  {
   "cell_type": "markdown",
   "id": "35852562-479e-4141-8818-17f9449f6797",
   "metadata": {},
   "source": [
    "- Introduction to Data Loading\n",
    "\n",
    "- Loading a CSV File\n",
    "\n",
    "- Inspecting Data Structure"
   ]
  },
  {
   "cell_type": "markdown",
   "id": "ef2dddf5-4b12-49e0-8578-8dff7bfc667b",
   "metadata": {
    "jp-MarkdownHeadingCollapsed": true
   },
   "source": [
    "## Handling Missing Data"
   ]
  },
  {
   "cell_type": "markdown",
   "id": "7d91e11d-07c4-4d8d-ab2e-79145edf29dd",
   "metadata": {},
   "source": [
    "- Identifying Missing Data\n",
    "\n",
    "- Techniques to Handle Missing Data"
   ]
  },
  {
   "cell_type": "markdown",
   "id": "26a46439-20c4-4779-9d47-3fbf19cf5317",
   "metadata": {
    "jp-MarkdownHeadingCollapsed": true
   },
   "source": [
    "## Data Transformation and Feature Engineering"
   ]
  },
  {
   "cell_type": "markdown",
   "id": "7f52a41f-824c-42d3-b236-6411817e8d2d",
   "metadata": {},
   "source": [
    "- Feature Scaling\n",
    "\n",
    "- Categorical Data Encoding"
   ]
  },
  {
   "cell_type": "markdown",
   "id": "9c505e38-6563-464e-af0a-45e2b41a8481",
   "metadata": {
    "jp-MarkdownHeadingCollapsed": true
   },
   "source": [
    "## Visualizing Data with Matplotlib and Seaborn"
   ]
  },
  {
   "cell_type": "markdown",
   "id": "0087d323-f441-4d22-9f36-12941d69a371",
   "metadata": {},
   "source": [
    "- Introduction to Data Visualization\n",
    "\n",
    "- Matplotlib Basics\n",
    "\n",
    "- Bar Chart\n",
    "\n",
    "- Seaborn for Advanced Visualizations"
   ]
  },
  {
   "cell_type": "markdown",
   "id": "b2505afd-67f4-4a19-bf2c-47123e54f3b0",
   "metadata": {
    "jp-MarkdownHeadingCollapsed": true
   },
   "source": [
    "## Descriptive Statistics"
   ]
  },
  {
   "cell_type": "markdown",
   "id": "40133dc9-4ce7-4197-900c-a3846b3ce305",
   "metadata": {},
   "source": [
    "- Basic Descriptive Statistics\n",
    "\n",
    "- Interpreting Statistics"
   ]
  },
  {
   "cell_type": "markdown",
   "id": "f29d4bdf-78a9-49d3-ab89-6278904a1cdc",
   "metadata": {
    "jp-MarkdownHeadingCollapsed": true
   },
   "source": [
    "## Hands-on Project: Exploratory Data Analysis on a Real Dataset"
   ]
  },
  {
   "cell_type": "markdown",
   "id": "f1c89592-1937-44bd-a10d-8197d590f2b6",
   "metadata": {},
   "source": [
    "Task: Perform exploratory data analysis on the Titanic dataset to understand the survival rate across various features like age, gender, and class.\n",
    "\n",
    "#### Steps\n",
    "\n",
    "- Load the Titanic dataset using Pandas.\n",
    "- Clean the data by handling missing values (e.g., missing age values).\n",
    "- Explore the dataset.\n",
    "- Visualize the data"
   ]
  },
  {
   "cell_type": "markdown",
   "id": "6feab9ae-48ce-4650-84cf-3255e7c6181d",
   "metadata": {
    "jp-MarkdownHeadingCollapsed": true
   },
   "source": [
    "## Exercises"
   ]
  },
  {
   "cell_type": "markdown",
   "id": "596a71c0-c07c-4510-b072-897c1c997b19",
   "metadata": {},
   "source": [
    "- Load any other dataset (like the Iris dataset) and perform basic EDA, including handling missing values and visualizing relationships between features.\n",
    "- Create a pie chart to visualize the proportion of passengers who survived vs. those who didn’t in the Titanic dataset.\n",
    "- Find the median income from the dataset and create a histogram of income distribution.\n"
   ]
  },
  {
   "cell_type": "markdown",
   "id": "14fa57cb-b582-4c51-8636-dc37f40591e4",
   "metadata": {
    "jp-MarkdownHeadingCollapsed": true
   },
   "source": [
    "# Day 3: Introduction to Machine Learning (ML)\n",
    "\n",
    "### Objective:\n",
    "\n",
    "Day 3 is about getting hands-on experience with basic machine learning concepts. We will understand what machine learning is, the difference between supervised and unsupervised learning, and will build our first simple Linear Regression model using Scikit-learn to predict values based on historical data.\n",
    "\n",
    "### Learning Outcomes:\n",
    "\n",
    "#### By the end of the day, we will:\n",
    "\n",
    "- Understand the basic concepts of machine learning.\n",
    "- Differentiate between supervised and unsupervised learning.\n",
    "- Know how to perform a train-test split.\n",
    "- Build a Linear Regression model for predicting continuous variables.\n",
    "- Evaluate model performance using metrics like Mean Squared Error (MSE) and R-squared.\n"
   ]
  },
  {
   "cell_type": "markdown",
   "id": "c06e37b0-a346-4be2-93cf-1895355efd27",
   "metadata": {
    "jp-MarkdownHeadingCollapsed": true
   },
   "source": [
    "## What is Machine Learning?"
   ]
  },
  {
   "cell_type": "markdown",
   "id": "42cf3c7d-9e8e-4fb8-be0d-42977b812304",
   "metadata": {},
   "source": [
    "- Types of Machine Learning\n",
    "\n",
    "- Linear Regression"
   ]
  },
  {
   "cell_type": "markdown",
   "id": "54f74ede-4986-42fe-a4f5-70b185bf1746",
   "metadata": {
    "jp-MarkdownHeadingCollapsed": true
   },
   "source": [
    "## Supervised Learning and Dataset Preparation"
   ]
  },
  {
   "cell_type": "markdown",
   "id": "6325d5d3-c421-4e8b-8cfa-70d35e040c50",
   "metadata": {},
   "source": [
    "- Dataset Overview\n",
    "  \n",
    "- Example Dataset\n",
    "\n",
    "- Loading and Preparing the Dataset\n",
    "\n",
    "- Train-Test Split"
   ]
  },
  {
   "cell_type": "markdown",
   "id": "37f226d5-5f56-43cc-a96a-8610e6ab66a6",
   "metadata": {
    "jp-MarkdownHeadingCollapsed": true
   },
   "source": [
    "## Building a Linear Regression Model"
   ]
  },
  {
   "cell_type": "markdown",
   "id": "50eb8af5-8893-4386-a1bc-56fc31c13fb5",
   "metadata": {},
   "source": [
    "- Introduction to Linear Regression\n",
    "\n",
    "- Building the Model with Scikit-learn\n",
    "\n",
    "- Making Predictions"
   ]
  },
  {
   "cell_type": "markdown",
   "id": "2cdc26a1-3267-4fad-9911-52c28d2ed24d",
   "metadata": {
    "jp-MarkdownHeadingCollapsed": true
   },
   "source": [
    "## Evaluating the Model"
   ]
  },
  {
   "cell_type": "markdown",
   "id": "c61ec18d-3b4d-498e-9a25-787f44019d1e",
   "metadata": {},
   "source": [
    "- Metrics for Regression\n",
    "  \n",
    "- Calculating Model Performance\n",
    "\n",
    "- Interpreting Results"
   ]
  },
  {
   "cell_type": "markdown",
   "id": "4718a4f9-5cdd-4ac8-b96e-669acbcd66ae",
   "metadata": {
    "jp-MarkdownHeadingCollapsed": true
   },
   "source": [
    "## Feature Scaling and Regularization"
   ]
  },
  {
   "cell_type": "markdown",
   "id": "8a1e2e69-8847-4785-8151-55984b8cb6c6",
   "metadata": {},
   "source": [
    "- Why Feature Scaling?\n",
    "  \n",
    "- Scaling Features\n",
    "\n",
    "- Adding Regularization (Ridge or Lasso Regression)"
   ]
  },
  {
   "cell_type": "markdown",
   "id": "a88bf89d-99dd-4f15-b920-a90a9e2656f7",
   "metadata": {
    "jp-MarkdownHeadingCollapsed": true
   },
   "source": [
    "## Hands-on Project: Predicting House Prices using Linear Regression"
   ]
  },
  {
   "cell_type": "markdown",
   "id": "28e26dc0-a4c7-4c8d-95d3-0df1112b9fd1",
   "metadata": {},
   "source": [
    "Task: Build a Linear Regression model to predict house prices based on various input features like number of rooms, crime rate, and proximity to city centers.\n",
    "\n",
    "#### Steps\n",
    "\n",
    "- Load the Data\n",
    "- Exploratory Data Analysis (EDA)\n",
    "- Prepare Features and Target\n",
    "- Train-Test Split\n",
    "- Train the Model\n",
    "- Evaluate the Model\n",
    "- Visualize Results\n",
    "- Model Coefficients\n"
   ]
  },
  {
   "cell_type": "markdown",
   "id": "a2b43e56-9406-40d5-80ad-cc370c76c858",
   "metadata": {
    "jp-MarkdownHeadingCollapsed": true
   },
   "source": [
    "## Exercises"
   ]
  },
  {
   "cell_type": "markdown",
   "id": "812d5912-4f83-43dd-9fa8-d469c4925d7f",
   "metadata": {},
   "source": [
    "- Use the same dataset and try adding new features (like interaction terms between variables) to see if the model's performance improves.\n",
    "- Experiment with a Ridge or Lasso regression model on the dataset, and compare the results with the regular Linear Regression model.\n",
    "- Find a dataset of your choice, split it, train a regression model, and evaluate the results.\n"
   ]
  },
  {
   "cell_type": "markdown",
   "id": "af4f1826-adcc-4b92-a222-8e3bfc214d17",
   "metadata": {
    "jp-MarkdownHeadingCollapsed": true
   },
   "source": [
    "# Day 4: Classification Models in Machine Learning\n",
    "\n",
    "### Objective:\n",
    "\n",
    "Day 4 focuses on classification, a type of supervised learning where the goal is to categorize data into predefined labels. We will build a Logistic Regression model to classify whether an email is spam or not and explore key concepts of classification, including performance metrics such as accuracy, precision, recall, and confusion matrix.\n",
    "\n",
    "### Learning Outcomes:\n",
    "\n",
    "#### By the end of the day, we will:\n",
    "\n",
    "- Understand the basics of classification and how it differs from regression.\n",
    "- Build and train a Logistic Regression classifier.\n",
    "- Understand and compute performance metrics such as accuracy, precision, recall, F1-score, and confusion matrix.\n",
    "- Visualize the decision boundary of a classification model.\n",
    "- Be able to apply classification algorithms to a real-world dataset."
   ]
  },
  {
   "cell_type": "markdown",
   "id": "707e7af6-9247-4fdd-9448-49763039574d",
   "metadata": {
    "jp-MarkdownHeadingCollapsed": true
   },
   "source": [
    "## What is Classification?"
   ]
  },
  {
   "cell_type": "markdown",
   "id": "749ea9e8-e4f5-4cd9-84cc-2c708086ecab",
   "metadata": {},
   "source": [
    "- Examples of Classification Problems"
   ]
  },
  {
   "cell_type": "markdown",
   "id": "046dc965-9e51-49ba-a04e-4ac5dfc39679",
   "metadata": {
    "jp-MarkdownHeadingCollapsed": true
   },
   "source": [
    "## Logistic Regression for Classification"
   ]
  },
  {
   "cell_type": "markdown",
   "id": "270a86c0-9065-4103-97f0-3fcbac4f6b2d",
   "metadata": {},
   "source": [
    "- What is Logistic Regression?\n",
    "    \n",
    "- Dataset Overview"
   ]
  },
  {
   "cell_type": "markdown",
   "id": "8f2a506c-fe31-47b8-a9b1-79375c392551",
   "metadata": {
    "jp-MarkdownHeadingCollapsed": true
   },
   "source": [
    "## Building a Logistic Regression Classifier"
   ]
  },
  {
   "cell_type": "markdown",
   "id": "f7ec2b41-aca4-4e82-8333-d70444741fcf",
   "metadata": {},
   "source": [
    "- Step 1: Loading and Preparing the Dataset\n",
    "  \n",
    "- Step 2: Training the Logistic Regression Model\n",
    "\n",
    "- Step 3: Making Predictions"
   ]
  },
  {
   "cell_type": "markdown",
   "id": "32c34026-3c63-4b91-a974-fa3a2421097a",
   "metadata": {
    "jp-MarkdownHeadingCollapsed": true
   },
   "source": [
    "## Evaluating the Classification Model"
   ]
  },
  {
   "cell_type": "markdown",
   "id": "3bbfa1c1-2adb-418a-81a8-4a57afaf5108",
   "metadata": {},
   "source": [
    "- Confusion Matrix\n",
    "- Accuracy\n",
    "- Precision and Recall\n",
    "- F1-Score"
   ]
  },
  {
   "cell_type": "markdown",
   "id": "1fa980f9-2d6d-424c-9409-cb93dc577a87",
   "metadata": {
    "jp-MarkdownHeadingCollapsed": true
   },
   "source": [
    "## Visualizing the Decision Boundary"
   ]
  },
  {
   "cell_type": "markdown",
   "id": "6e6bc4e5-5457-4d81-a80f-ea637f8bd846",
   "metadata": {},
   "source": [
    "- Why Visualize the Decision Boundary?\n",
    "\n",
    "- Visualizing with a 2D Feature Set"
   ]
  },
  {
   "cell_type": "markdown",
   "id": "14582a5e-f4db-471b-a0fe-e091636777dd",
   "metadata": {},
   "source": [
    "## Hands-on Project: Spam Detection Using Logistic Regression"
   ]
  },
  {
   "cell_type": "markdown",
   "id": "df5956c7-5aa9-46cf-b37b-6876d95457da",
   "metadata": {},
   "source": [
    "Task: Build a Logistic Regression classifier to predict whether an email is spam or not based on features such as word frequency and email length.\n",
    "\n",
    "#### Steps:\n",
    "- Load the dataset and split it into training and testing sets.\n",
    "- Train the Logistic Regression model to classify emails as spam or not spam.\n",
    "- Evaluate the model using accuracy, confusion matrix, precision, recall, and F1-score.\n",
    "- Visualize the confusion matrix using Seaborn’s heatmap."
   ]
  },
  {
   "cell_type": "markdown",
   "id": "12beabb9-51e8-439c-b1bb-d2d032823ab2",
   "metadata": {
    "jp-MarkdownHeadingCollapsed": true
   },
   "source": [
    "## Exercises"
   ]
  },
  {
   "cell_type": "markdown",
   "id": "406c3805-bf3e-4824-bbd9-56f3a95a7c1a",
   "metadata": {
    "jp-MarkdownHeadingCollapsed": true
   },
   "source": [
    "- Build a logistic regression model for another binary classification dataset (e.g., breast cancer diagnosis).\n",
    "- Use cross-validation to improve the performance of the model and compare it with the baseline.\n",
    "- Try a different classification algorithm like K-Nearest Neighbors (KNN) and compare the performance with logistic regression."
   ]
  },
  {
   "cell_type": "markdown",
   "id": "8b2eef6b-89b3-4fff-8d96-8ac545a530f6",
   "metadata": {},
   "source": [
    "# Day 5: Introduction to Neural Networks and Deep Learning\n",
    "\n",
    "### Objective:\n",
    "\n",
    "Day 5 introduces the fundamental concepts of neural networks and deep learning. We will build a simple feedforward neural network to classify handwritten digits using the MNIST dataset. This will be our first hands-on experience with deep learning frameworks like TensorFlow.\n",
    "\n",
    "### Learning Outcomes:\n",
    "\n",
    "#### By the end of the day, we will:\n",
    "\n",
    "- Understand the structure and working of a basic neural network.\n",
    "- Learn about activation functions, layers, and backpropagation.\n",
    "- Build a simple neural network for image classification.\n",
    "- Train and evaluate the model on the MNIST dataset.\n",
    "- Be familiar with popular deep learning libraries such as TensorFlow."
   ]
  },
  {
   "cell_type": "markdown",
   "id": "206945f6-9f01-41c3-ad1f-b50cb59f2a34",
   "metadata": {
    "jp-MarkdownHeadingCollapsed": true
   },
   "source": [
    "## What is a Neural Network?"
   ]
  },
  {
   "cell_type": "markdown",
   "id": "11a5a8b5-851f-412d-8b5f-5646d0bb6b09",
   "metadata": {},
   "source": [
    "- Key Concepts\n",
    "  - Weights and Biases\n",
    "  - Activation Functions\n",
    "  - Backpropagation"
   ]
  },
  {
   "cell_type": "markdown",
   "id": "2e0c140b-e0e9-49be-b4bf-e4ebd77103d9",
   "metadata": {
    "jp-MarkdownHeadingCollapsed": true
   },
   "source": [
    "## Introduction to Deep Learning Frameworks"
   ]
  },
  {
   "cell_type": "markdown",
   "id": "25a7e0f0-420a-4b30-9f63-23fd26b5969a",
   "metadata": {},
   "source": [
    "- TensorFlow or PyTorch?"
   ]
  },
  {
   "cell_type": "markdown",
   "id": "90fa8f1b-1a56-4fda-9fe4-2421855b6f2a",
   "metadata": {
    "jp-MarkdownHeadingCollapsed": true
   },
   "source": [
    "## MNIST Dataset Overview"
   ]
  },
  {
   "cell_type": "markdown",
   "id": "e7875084-5c58-4b6a-a532-ca4ce14c73f8",
   "metadata": {},
   "source": [
    "- What is MNIST?"
   ]
  },
  {
   "cell_type": "markdown",
   "id": "d8ab9ce7-405d-49e4-abc4-9228fd1618f0",
   "metadata": {
    "jp-MarkdownHeadingCollapsed": true
   },
   "source": [
    "## Building a Simple Neural Network for MNIST Classification"
   ]
  },
  {
   "cell_type": "markdown",
   "id": "53602f09-08fc-4360-8ff6-2db69c829937",
   "metadata": {},
   "source": [
    "- Step 1: Data Preprocessing\n",
    "\n",
    "- Step 2: Define the Neural Network Architecture\n",
    "\n",
    "- Step 3: Compile the Model\n",
    "\n",
    "- Step 4: Train the Model"
   ]
  },
  {
   "cell_type": "markdown",
   "id": "e3795037-44dc-4a77-abab-b86c6409df47",
   "metadata": {
    "jp-MarkdownHeadingCollapsed": true
   },
   "source": [
    "## Evaluating the Neural Network"
   ]
  },
  {
   "cell_type": "markdown",
   "id": "93fbf0c2-4da5-4e4c-9d7a-3953d0819c49",
   "metadata": {},
   "source": [
    "- Model Evaluation\n",
    "\n",
    "- Making Predictions"
   ]
  },
  {
   "cell_type": "markdown",
   "id": "a9c74c06-18d5-4a29-a703-c59c2baacdaf",
   "metadata": {
    "jp-MarkdownHeadingCollapsed": true
   },
   "source": [
    "## Understanding Activation Functions"
   ]
  },
  {
   "cell_type": "markdown",
   "id": "a4df1c1c-e636-4fc9-8841-42316f8a8009",
   "metadata": {},
   "source": [
    "- Activation Functions"
   ]
  },
  {
   "cell_type": "markdown",
   "id": "46842171-f832-4516-a7dc-3cf160ab7750",
   "metadata": {
    "jp-MarkdownHeadingCollapsed": true
   },
   "source": [
    "## Hands-on Project: Handwritten Digit Classification using Neural Networks"
   ]
  },
  {
   "cell_type": "markdown",
   "id": "e2c659a5-948a-416f-86a9-2cb7f7697703",
   "metadata": {},
   "source": [
    "#### Task:\n",
    "\n",
    "- Build a neural network to classify handwritten digits using the MNIST dataset.\n",
    "- The network should contain at least one hidden layer with ReLU activation and an output layer with Softmax for multi-class classification.\n",
    "\n",
    "#### Steps:\n",
    "\n",
    "- Preprocess the data by normalizing the pixel values and reshaping the input.\n",
    "- Define the neural network architecture, using at least one hidden layer and an output layer for 10-class classification.\n",
    "- Train the model and monitor the accuracy and loss during training.\n",
    "- Evaluate the model on the test dataset and visualize some predictions."
   ]
  },
  {
   "cell_type": "markdown",
   "id": "eeb69171-60d7-42ba-85e2-34b7506b1986",
   "metadata": {
    "jp-MarkdownHeadingCollapsed": true
   },
   "source": [
    "## Exercises"
   ]
  },
  {
   "cell_type": "markdown",
   "id": "b4f85174-9aa8-4bc4-b8d8-3b0c26f75a4c",
   "metadata": {},
   "source": [
    "- Modify the architecture by adding more hidden layers and neurons. See how it affects accuracy.\n",
    "- Experiment with different activation functions like Sigmoid in the hidden layers.\n",
    "- Try training for 10 epochs and plot the loss and accuracy over time to observe the learning curve."
   ]
  },
  {
   "cell_type": "markdown",
   "id": "4379bf23-ad51-4365-a4eb-73eaf4f152d0",
   "metadata": {},
   "source": [
    "# Day 6: Building a Sentiment Analysis Model Using Natural Language Processing (NLP)\n",
    "\n",
    "### Objective:\n",
    "\n",
    "Day 6 introduces Natural Language Processing (NLP) and focuses on text classification through sentiment analysis. We will build a sentiment analysis model that classifies text as positive or negative using a pre-trained model from Hugging Face.\n",
    "\n",
    "### Learning Outcomes:\n",
    "#### By the end of the day, we will:\n",
    "\n",
    "- Understand the basics of NLP and its importance in AI.\n",
    "- Learn text preprocessing techniques such as tokenization, stemming, and vectorization.\n",
    "- Build a sentiment analysis model using a pre-trained NLP model.\n",
    "- Evaluate the model using metrics such as accuracy and F1-score.\n",
    "- Understand the concept of transfer learning for NLP tasks."
   ]
  },
  {
   "cell_type": "markdown",
   "id": "39314723-263f-42f3-9f3c-ce77c3f44dbf",
   "metadata": {
    "jp-MarkdownHeadingCollapsed": true
   },
   "source": [
    "## Introduction to Natural Language Processing (NLP)"
   ]
  },
  {
   "cell_type": "markdown",
   "id": "50790886-436e-4cec-862e-9d1c81618380",
   "metadata": {},
   "source": [
    "- What is NLP?\n",
    "\n",
    "- Common NLP Tasks\n",
    "    - Text Classification\n",
    "    - Named Entity Recognition (NER)\n",
    "    - Machine Translation\n",
    "    - Speech Recognition"
   ]
  },
  {
   "cell_type": "markdown",
   "id": "29fe4c1b-4a55-4946-9f2c-5bad6785e70c",
   "metadata": {
    "jp-MarkdownHeadingCollapsed": true
   },
   "source": [
    "## Sentiment Analysis: Understanding Text Classification"
   ]
  },
  {
   "cell_type": "markdown",
   "id": "f3144a19-d675-4a8d-9e2a-04aec076cf01",
   "metadata": {},
   "source": [
    "- What is Sentiment Analysis?\n",
    "\n",
    "- Problem Statement"
   ]
  },
  {
   "cell_type": "markdown",
   "id": "2ad88411-af8a-40af-8308-a30db01b6ef7",
   "metadata": {
    "jp-MarkdownHeadingCollapsed": true
   },
   "source": [
    "## Text Preprocessing"
   ]
  },
  {
   "cell_type": "markdown",
   "id": "37b3635e-9d9b-463c-bd13-f2e48346ab5a",
   "metadata": {},
   "source": [
    "- Step 1: Tokenization\n",
    "- Step 2: Stemming and Lemmatization\n",
    "- Step 3: Vectorization"
   ]
  },
  {
   "cell_type": "markdown",
   "id": "b620883a-acc1-443a-942d-89e823808a06",
   "metadata": {
    "jp-MarkdownHeadingCollapsed": true
   },
   "source": [
    "## Using Pre-trained Models for NLP (Hugging Face)"
   ]
  },
  {
   "cell_type": "markdown",
   "id": "77fafc80-7e53-498d-9de4-9acdc2140da2",
   "metadata": {},
   "source": [
    "- Why Use Pre-trained Models?\n",
    "\n",
    "- Step 1: Install Hugging Face Transformers\n",
    "\n",
    "- Step 2: Using a Pre-trained Sentiment Analysis Model\n",
    "\n",
    "- Step 3: Fine-tuning the Model (Optional)"
   ]
  },
  {
   "cell_type": "markdown",
   "id": "acff1d0c-bef9-47ef-985b-1a145e51b92f",
   "metadata": {
    "jp-MarkdownHeadingCollapsed": true
   },
   "source": [
    "## Building a Sentiment Analysis Model with TensorFlow"
   ]
  },
  {
   "cell_type": "markdown",
   "id": "1086277a-85e2-43a4-80a6-0acba9cef65a",
   "metadata": {},
   "source": [
    "- Step 1: Load the Dataset\n",
    "\n",
    "- Step 2: Preprocess the Data\n",
    "\n",
    "- Step 3: Define and Train the Model"
   ]
  },
  {
   "cell_type": "markdown",
   "id": "1cdb9359-4dcc-427e-aa9a-b51e5aa962c5",
   "metadata": {
    "jp-MarkdownHeadingCollapsed": true
   },
   "source": [
    "## Evaluating the Model"
   ]
  },
  {
   "cell_type": "markdown",
   "id": "c3a931bc-f400-4ce3-b714-8a82dd0991c8",
   "metadata": {},
   "source": [
    "- Model Evaluation\n",
    "\n",
    "- Confusion Matrix"
   ]
  },
  {
   "cell_type": "markdown",
   "id": "5cb19c8f-28f7-427d-a17a-7fee7fd978ed",
   "metadata": {
    "jp-MarkdownHeadingCollapsed": true
   },
   "source": [
    "## Hands-on Project: Sentiment Analysis Using Pre-trained NLP Models"
   ]
  },
  {
   "cell_type": "markdown",
   "id": "2055901a-501c-4bcb-a711-9ad4bf0698e2",
   "metadata": {},
   "source": [
    "Task: Build a sentiment analysis model using either Hugging Face’s DistilBERT or TensorFlow’s IMDB Movie Reviews Dataset.\n",
    "\n",
    "#### Steps:\n",
    "\n",
    "- Preprocess the text data by tokenizing and padding sequences.\n",
    "- Use a pre-trained model for sentiment analysis, or build a model from scratch using TensorFlow.\n",
    "- Train the model and monitor the performance using accuracy, precision, recall, and F1-score.\n",
    "- Evaluate and visualize the results, including the confusion matrix."
   ]
  },
  {
   "cell_type": "markdown",
   "id": "6eae508a-a6df-4b1d-b43d-ffaa328a2519",
   "metadata": {
    "jp-MarkdownHeadingCollapsed": true
   },
   "source": [
    "## Exercises"
   ]
  },
  {
   "cell_type": "markdown",
   "id": "1826e813-b196-44f7-8258-6d7cb7c7e661",
   "metadata": {},
   "source": [
    "- Fine-tune a pre-trained model on a custom dataset and compare the results with the off-the-shelf model.\n",
    "- Experiment with different architectures like GRU instead of LSTM in TensorFlow for sentiment analysis.\n",
    "- Try using the TextBlob library to perform sentiment analysis and compare the results with your model."
   ]
  },
  {
   "cell_type": "markdown",
   "id": "13219faf-4f4f-4ffb-8def-8ef8635d7a7b",
   "metadata": {},
   "source": [
    "# Day 7: Deploying an AI Model as a Web Service\n",
    "\n",
    "### Objective:\n",
    "\n",
    "On Day 7, we will deploy a machine learning model as a web service using Flask. The goal is to build an end-to-end application where users can input data, and the deployed AI model will return predictions. This day will focus on integrating AI models into web applications and deploying them on a cloud platform like Heroku.\n",
    "\n",
    "### Learning Outcomes:\n",
    "\n",
    "#### By the end of the day, we will:\n",
    "\n",
    "- Understand the basics of web development using Flask.\n",
    "- Learn how to integrate a machine learning model into a web application.\n",
    "- Deploy a machine learning model as a RESTful API.\n",
    "- Deploy the application on a cloud platform like Heroku for public access."
   ]
  },
  {
   "cell_type": "markdown",
   "id": "2fbac279-a98a-4717-99a1-eabcc687f8db",
   "metadata": {
    "jp-MarkdownHeadingCollapsed": true
   },
   "source": [
    "## Introduction to Flask for Web Development"
   ]
  },
  {
   "cell_type": "markdown",
   "id": "08c8b5ce-4eb5-49ce-8000-120c82c2b962",
   "metadata": {},
   "source": [
    "- What is Flask?\n",
    "\n",
    "- Installing Flask\n",
    "\n",
    "- Basic Flask Application"
   ]
  },
  {
   "cell_type": "markdown",
   "id": "30c80679-fc03-4708-b6fd-446b4c362aa5",
   "metadata": {
    "jp-MarkdownHeadingCollapsed": true
   },
   "source": [
    "## Creating a Web Interface for Your Model"
   ]
  },
  {
   "cell_type": "markdown",
   "id": "efd51381-4ef3-4d43-9394-f39e5ca46f46",
   "metadata": {},
   "source": [
    "- Step 1: Build a Prediction Function\n",
    "\n",
    "- Step 2: Create a Flask Web Form for Input\n",
    "\n",
    "- Step 3: Create the Prediction Route"
   ]
  },
  {
   "cell_type": "markdown",
   "id": "32b916c5-11bb-4787-b1fc-6fb8053c6055",
   "metadata": {},
   "source": [
    "## Deploying the Flask App to Heroku"
   ]
  },
  {
   "cell_type": "markdown",
   "id": "ae41455a-3c6d-4f23-a015-5f5025540dfb",
   "metadata": {},
   "source": [
    "- Step 1: Setting Up Heroku\n",
    "\n",
    "- Step 2: Prepare the Application for Deployment\n",
    "\n",
    "- Step 3: Deploying to Heroku"
   ]
  },
  {
   "cell_type": "markdown",
   "id": "7b5ae0d3-2b4e-4b0b-9a61-d6edf5b71166",
   "metadata": {},
   "source": [
    "## Testing the Web Service"
   ]
  },
  {
   "cell_type": "markdown",
   "id": "3ccaecee-8288-4e56-b338-b2c99c50e105",
   "metadata": {},
   "source": [
    "- Testing the API\n",
    "\n",
    "- Handling Edge Cases"
   ]
  },
  {
   "cell_type": "markdown",
   "id": "fdc6e645-0ea3-4af3-872d-018eb5e9a87c",
   "metadata": {},
   "source": [
    "Task: Deploy the machine learning model you built as a web service using Flask and Heroku.\n",
    "\n",
    "#### Steps:\n",
    "\n",
    "- Build a Flask application that allows users to input text (e.g., email, review) and get predictions.\n",
    "- Integrate your machine learning model into the Flask application to provide predictions based on the input.\n",
    "- Deploy the application on Heroku to make it publicly accessible.\n",
    "- Test the application by making predictions and handling different user inputs."
   ]
  },
  {
   "cell_type": "markdown",
   "id": "f49fa7e9-eb96-4056-b9fa-abc7a21074df",
   "metadata": {
    "jp-MarkdownHeadingCollapsed": true
   },
   "source": [
    "## Exercises"
   ]
  },
  {
   "cell_type": "markdown",
   "id": "1b219ce7-03c2-4be4-8f45-342478a3d1e1",
   "metadata": {},
   "source": [
    "- Deploy a different machine learning model (such as the sentiment analysis model from Day 6) and build a web service around it.\n",
    "- Extend the Flask app to handle multiple predictions at once by allowing the user to upload a file (e.g., a CSV of emails).\n",
    "- Add more features to the web interface, such as model confidence scores or visualizations of the predictions."
   ]
  }
 ],
 "metadata": {
  "kernelspec": {
   "display_name": "Python 3 (ipykernel)",
   "language": "python",
   "name": "python3"
  },
  "language_info": {
   "codemirror_mode": {
    "name": "ipython",
    "version": 3
   },
   "file_extension": ".py",
   "mimetype": "text/x-python",
   "name": "python",
   "nbconvert_exporter": "python",
   "pygments_lexer": "ipython3",
   "version": "3.12.3"
  }
 },
 "nbformat": 4,
 "nbformat_minor": 5
}
