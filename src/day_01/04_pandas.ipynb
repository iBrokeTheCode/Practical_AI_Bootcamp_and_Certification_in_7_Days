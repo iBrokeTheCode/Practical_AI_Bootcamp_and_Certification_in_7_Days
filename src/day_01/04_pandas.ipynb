{
 "cells": [
  {
   "cell_type": "code",
   "execution_count": 3,
   "id": "425a9bda-b23e-49db-bf91-c8faf67283a0",
   "metadata": {},
   "outputs": [],
   "source": [
    "import pandas as pd"
   ]
  },
  {
   "cell_type": "code",
   "execution_count": 4,
   "id": "1300f155-12cf-4e1d-91e4-4c182c9bbf2f",
   "metadata": {},
   "outputs": [
    {
     "name": "stdout",
     "output_type": "stream",
     "text": [
      "      Name  Age         City\n",
      "0    Alice   18     New York\n",
      "1      Bob   32      Phoenix\n",
      "2  Charlie   25      Chicago\n",
      "3    David   14  Los Angeles\n",
      "4    Elena   20      Houston\n"
     ]
    }
   ],
   "source": [
    "# Read CSV\n",
    "data = pd.read_csv('./data/data.csv')\n",
    "\n",
    "# Print first data\n",
    "print(data.head())"
   ]
  },
  {
   "cell_type": "code",
   "execution_count": 5,
   "id": "4d69e435-4dc5-437e-8565-8ee5a2dea143",
   "metadata": {},
   "outputs": [
    {
     "name": "stdout",
     "output_type": "stream",
     "text": [
      "0      Alice\n",
      "1        Bob\n",
      "2    Charlie\n",
      "3      David\n",
      "4      Elena\n",
      "Name: Name, dtype: object\n"
     ]
    }
   ],
   "source": [
    "# Print field\n",
    "name_field = data['Name']\n",
    "print(name_field)"
   ]
  },
  {
   "cell_type": "code",
   "execution_count": 8,
   "id": "d63c0b2c-7534-428a-abad-f2e9605c4215",
   "metadata": {},
   "outputs": [
    {
     "name": "stdout",
     "output_type": "stream",
     "text": [
      "      Name  Age     City\n",
      "1      Bob   32  Phoenix\n",
      "2  Charlie   25  Chicago\n",
      "4    Elena   20  Houston\n"
     ]
    }
   ],
   "source": [
    "# Filter data\n",
    "filtered_data = data[data['Age'] > 18]\n",
    "print(filtered_data)"
   ]
  },
  {
   "cell_type": "code",
   "execution_count": 9,
   "id": "0383dfb5-3b19-427f-89cc-0114ce27909a",
   "metadata": {},
   "outputs": [
    {
     "name": "stdout",
     "output_type": "stream",
     "text": [
      "             Age\n",
      "count   5.000000\n",
      "mean   21.800000\n",
      "std     6.942622\n",
      "min    14.000000\n",
      "25%    18.000000\n",
      "50%    20.000000\n",
      "75%    25.000000\n",
      "max    32.000000\n"
     ]
    }
   ],
   "source": [
    "# Print description\n",
    "print(data.describe())"
   ]
  },
  {
   "cell_type": "code",
   "execution_count": null,
   "id": "2018ba91-cb59-464e-8c9a-d039f548c87e",
   "metadata": {},
   "outputs": [],
   "source": []
  }
 ],
 "metadata": {
  "kernelspec": {
   "display_name": ".venv",
   "language": "python",
   "name": "python3"
  },
  "language_info": {
   "codemirror_mode": {
    "name": "ipython",
    "version": 3
   },
   "file_extension": ".py",
   "mimetype": "text/x-python",
   "name": "python",
   "nbconvert_exporter": "python",
   "pygments_lexer": "ipython3",
   "version": "3.12.3"
  }
 },
 "nbformat": 4,
 "nbformat_minor": 5
}
