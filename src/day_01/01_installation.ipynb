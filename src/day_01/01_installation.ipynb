{
 "cells": [
  {
   "cell_type": "markdown",
   "id": "9f6ccc74-57a8-4ac7-a481-bc7a46c7cdca",
   "metadata": {},
   "source": [
    "# Python and Jupyter Lab\n",
    "\n",
    "This guide will walk you through setting up a dedicated Python virtual environment using `uv` to install JupyterLab and essential Machine Learning (ML) libraries. This ensures your project dependencies are isolated and your development environment remains clean and efficient.\n",
    "\n",
    "## Prerequisites\n",
    "\n",
    "Before you begin, make sure you have the following installed:\n",
    "\n",
    "1.  **Python 3.8+**: Download and install Python from [python.org](https://www.python.org/downloads/).\n",
    "2.  **`uv`**: The `uv` tool is a fast Python package installer and virtual environment manager. If you don't have it yet, you can install it using `pip` (Python's package installer, which comes with Python):\n",
    "\n",
    "    ```bash\n",
    "    pip install uv\n",
    "    ```\n",
    "\n",
    "## Installation Steps\n",
    "\n",
    "Follow these steps to set up your ML environment:\n",
    "\n",
    "### Step 1: Create a Project Directory\n",
    "\n",
    "First, create a dedicated folder for your ML tutorials and navigate into it. This is where your virtual environment and Jupyter notebooks will reside.\n",
    "\n",
    "```bash\n",
    "mkdir ml_tutorials\n",
    "cd ml_tutorials\n",
    "```\n",
    "\n",
    "### Step 2: Create a Virtual Environment with `uv`\n",
    "\n",
    "Now, create a virtual environment using `uv`. This will create an isolated space for your project's Python packages.\n",
    "\n",
    "```bash\n",
    "uv venv\n",
    "```\n",
    "\n",
    "You should see output similar to `Created virtualenv at ./.venv`. `uv` automatically names the environment `.venv` by default.\n",
    "\n",
    "### Step 3: Activate the Virtual Environment\n",
    "\n",
    "Before installing any packages, you need to activate your newly created virtual environment. This tells your system to use the Python interpreter and packages from this specific environment, rather than your global Python installation.\n",
    "\n",
    "```bash\n",
    "source .venv/bin/activate\n",
    "```\n",
    "\n",
    "_(On Windows, if you're using PowerShell, it might be `.\\.venv\\Scripts\\Activate.ps1` or `.\\.venv\\Scripts\\activate.bat` for Command Prompt)._\n",
    "\n",
    "You'll know the environment is active when you see `(.venv)` prepended to your terminal prompt.\n",
    "\n",
    "### Step 4: Install JupyterLab and Essential ML Libraries\n",
    "\n",
    "With your virtual environment activated, install [`jupyterlab`](https://jupyter.org/install) and other common Machine Learning libraries that you'll likely use in your tutorials.\n",
    "\n",
    "```bash\n",
    "uv pip install jupyterlab numpy pandas scikit-learn matplotlib seaborn\n",
    "```\n",
    "\n",
    "- **`jupyterlab`**: The modern, web-based interactive development environment for Jupyter notebooks.\n",
    "- **`numpy`**: Fundamental package for numerical computing with Python.\n",
    "- **`pandas`**: Data manipulation and analysis library.\n",
    "- **`scikit-learn`**: A comprehensive library for various ML algorithms.\n",
    "- **`matplotlib`**: A widely used plotting library for creating static, interactive, and animated visualizations.\n",
    "- **`seaborn`**: A data visualization library based on matplotlib, providing a high-level interface for drawing attractive and informative statistical graphics.\n",
    "\n",
    "### Step 5: Launch JupyterLab\n",
    "\n",
    "Once all packages are installed, you can launch JupyterLab from your active virtual environment:\n",
    "\n",
    "```bash\n",
    "jupyter lab\n",
    "```\n",
    "\n",
    "This command will open JupyterLab in a new tab in your default web browser (usually at `http://localhost:8888/lab`). From here, you can start creating new notebooks (`.ipynb` files), open existing ones, and begin coding!\n",
    "\n",
    "### Step 6: Deactivate the Virtual Environment (When Done)\n",
    "\n",
    "When you're finished working on your ML tutorials and want to exit the virtual environment, simply type:\n",
    "\n",
    "```bash\n",
    "deactivate\n",
    "```\n",
    "\n",
    "Your terminal prompt will return to its normal state. Remember to reactivate the environment (`source .venv/bin/activate`) each time you want to work on this project.\n"
   ]
  },
  {
   "cell_type": "code",
   "execution_count": 2,
   "id": "078d5cf1-41c7-499f-8f93-4a5291ea109c",
   "metadata": {},
   "outputs": [
    {
     "name": "stdout",
     "output_type": "stream",
     "text": [
      "Hello World!\n"
     ]
    }
   ],
   "source": [
    "print('Hello World!')"
   ]
  }
 ],
 "metadata": {
  "kernelspec": {
   "display_name": "Python 3 (ipykernel)",
   "language": "python",
   "name": "python3"
  },
  "language_info": {
   "codemirror_mode": {
    "name": "ipython",
    "version": 3
   },
   "file_extension": ".py",
   "mimetype": "text/x-python",
   "name": "python",
   "nbconvert_exporter": "python",
   "pygments_lexer": "ipython3",
   "version": "3.12.3"
  }
 },
 "nbformat": 4,
 "nbformat_minor": 5
}
