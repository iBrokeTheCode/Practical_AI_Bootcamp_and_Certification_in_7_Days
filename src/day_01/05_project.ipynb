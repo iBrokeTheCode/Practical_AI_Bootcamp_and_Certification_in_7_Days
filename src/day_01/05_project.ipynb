{
 "cells": [
  {
   "cell_type": "markdown",
   "id": "d4bcdcd2",
   "metadata": {},
   "source": [
    "# Day 01 Project\n",
    "\n",
    "Build a small program that reads from a text file, processes the content, and writes the results to another file."
   ]
  },
  {
   "cell_type": "code",
   "execution_count": 6,
   "id": "c0b13c4f",
   "metadata": {},
   "outputs": [
    {
     "name": "stdout",
     "output_type": "stream",
     "text": [
      "> Squares file generated!\n"
     ]
    }
   ],
   "source": [
    "# Read a text file with multiple lines of numbers (e.g., numbers.txt).\n",
    "with open(\"numbers.txt\", 'r') as file:\n",
    "    lines = file.readlines()\n",
    "\n",
    "# Process the data by converting each number to its square.\n",
    "squares = [f\"{int(number.strip()) ** 2}\\n\" for number in lines]\n",
    "\n",
    "# Write the output to another file (e.g., output.txt).\n",
    "with open(\"squares.txt\", \"w\") as file:\n",
    "    file.writelines(squares)\n",
    "    print('> Squares file generated!')"
   ]
  }
 ],
 "metadata": {
  "kernelspec": {
   "display_name": ".venv",
   "language": "python",
   "name": "python3"
  },
  "language_info": {
   "codemirror_mode": {
    "name": "ipython",
    "version": 3
   },
   "file_extension": ".py",
   "mimetype": "text/x-python",
   "name": "python",
   "nbconvert_exporter": "python",
   "pygments_lexer": "ipython3",
   "version": "3.12.3"
  }
 },
 "nbformat": 4,
 "nbformat_minor": 5
}
