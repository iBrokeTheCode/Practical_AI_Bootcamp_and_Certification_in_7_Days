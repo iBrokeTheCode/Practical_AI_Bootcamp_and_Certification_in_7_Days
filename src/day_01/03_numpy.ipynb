{
 "cells": [
  {
   "cell_type": "code",
   "execution_count": 2,
   "id": "e125dae7-4656-42c8-acce-506e8bb6bcdc",
   "metadata": {},
   "outputs": [
    {
     "name": "stdout",
     "output_type": "stream",
     "text": [
      "[1 2 3 4 5]\n"
     ]
    }
   ],
   "source": [
    "import numpy as np\n",
    "\n",
    "# Creating an array\n",
    "array = np.array([1, 2, 3, 4, 5])\n",
    "\n",
    "print(array)"
   ]
  },
  {
   "cell_type": "code",
   "execution_count": 5,
   "id": "069b2345-73bb-4ed8-9c01-4d0d4595f47f",
   "metadata": {},
   "outputs": [
    {
     "name": "stdout",
     "output_type": "stream",
     "text": [
      "[6 6 6 6 6]\n"
     ]
    }
   ],
   "source": [
    "# Array Sum\n",
    "array_2 = np.array([5, 4, 3, 2, 1])\n",
    "\n",
    "print(array + array_2)"
   ]
  },
  {
   "cell_type": "code",
   "execution_count": 8,
   "id": "96a2b02f-8872-4f1a-bbc4-91b5bc4bdcd3",
   "metadata": {},
   "outputs": [
    {
     "name": "stdout",
     "output_type": "stream",
     "text": [
      "[[5 4]\n",
      " [4 5]]\n",
      "[[7 7]\n",
      " [8 5]]\n"
     ]
    }
   ],
   "source": [
    "# Matrix Product\n",
    "matrix = np.array([[1, 2], [2, 1]])\n",
    "matrix_2 = np.array([[3, 1], [2, 3]])\n",
    "\n",
    "print(np.dot(matrix, matrix))\n",
    "print(np.dot(matrix, matrix_2))"
   ]
  }
 ],
 "metadata": {
  "kernelspec": {
   "display_name": "Python 3 (ipykernel)",
   "language": "python",
   "name": "python3"
  },
  "language_info": {
   "codemirror_mode": {
    "name": "ipython",
    "version": 3
   },
   "file_extension": ".py",
   "mimetype": "text/x-python",
   "name": "python",
   "nbconvert_exporter": "python",
   "pygments_lexer": "ipython3",
   "version": "3.12.3"
  }
 },
 "nbformat": 4,
 "nbformat_minor": 5
}
