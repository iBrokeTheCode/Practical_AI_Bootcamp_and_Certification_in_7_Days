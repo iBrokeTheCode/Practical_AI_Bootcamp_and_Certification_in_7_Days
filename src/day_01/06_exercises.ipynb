{
 "cells": [
  {
   "cell_type": "markdown",
   "id": "d7b19589",
   "metadata": {},
   "source": [
    "# Exercises\n",
    "\n",
    "## Exercise 1: Create a List of Numbers and Display Their Squares\n",
    "\n",
    "Create a list of 10 numbers and write a Python program that prints the square of each number.\n",
    "\n",
    "In this exercise, you'll create a list of 10 numbers and write a Python program that prints the square of each. This task will help you practice:\n",
    "\n",
    "- Creating lists in Python.\n",
    "- Using for loops to iterate over elements.\n",
    "- Performing basic mathematical operations like exponentiation (**)."
   ]
  },
  {
   "cell_type": "code",
   "execution_count": 4,
   "id": "7d84cfbd",
   "metadata": {},
   "outputs": [
    {
     "name": "stdout",
     "output_type": "stream",
     "text": [
      "[1, 4, 9, 16, 25, 36, 49, 64, 81, 100]\n"
     ]
    }
   ],
   "source": [
    "numbers = list(range(1, 11))\n",
    "squares = [number ** 2 for number in numbers]\n",
    "\n",
    "print(squares)"
   ]
  },
  {
   "cell_type": "markdown",
   "id": "7fc0f739",
   "metadata": {},
   "source": [
    "## Exercise 2: Reading and Writing Files in Python\n",
    "\n",
    "Modify the previous code to read a CSV file, select specific columns, and write the output to a new CSV file.\n",
    "\n",
    "In this exercise, you'll practice file handling by reading a text file containing numbers (one per line), calculating the square of each number, and writing the results to a new file. This task will help you become familiar with:\n",
    "\n",
    "- Reading files using Python's open() function.\n",
    "- Iterating over file content and performing operations on the data.\n",
    "- Writing processed data to a new file."
   ]
  },
  {
   "cell_type": "code",
   "execution_count": 17,
   "id": "93ec08cc",
   "metadata": {},
   "outputs": [],
   "source": [
    "with open('./data/numbers.csv', 'r') as file:\n",
    "    lines = file.readlines()\n",
    "    \n",
    "squares = [f\"{int(number) ** 2}\\n\" for number in lines]\n",
    "\n",
    "with open('./data/squares.csv', 'w') as file:\n",
    "    file.writelines(squares)"
   ]
  },
  {
   "cell_type": "markdown",
   "id": "017a4d51",
   "metadata": {},
   "source": [
    "## Exercise 3: Working with Lists and Dictionaries\n",
    "Modify the previous code to read a CSV file, select specific columns, and write the output to a new CSV file.\n",
    "\n",
    "This exercise focuses on practicing basic data structures in Python. You will:\n",
    "\n",
    "- Create a list with the names of 5 students and their ages.\n",
    "- Use a dictionary to store and access student ages.\n",
    "- Write a program that iterates through the dictionary and prints each student's name along with their age. This will help you get familiar with handling data collections in Python."
   ]
  },
  {
   "cell_type": "code",
   "execution_count": 16,
   "id": "528bcbae",
   "metadata": {},
   "outputs": [
    {
     "name": "stdout",
     "output_type": "stream",
     "text": [
      "Angel is 17 years old\n",
      "Luisa is 20 years old\n",
      "Paul is 18 years old\n",
      "Ana is 21 years old\n",
      "Marta is 25 years old\n"
     ]
    }
   ],
   "source": [
    "import pandas as pd\n",
    "\n",
    "data = pd.read_csv('./data/students.csv')\n",
    "students = []\n",
    "\n",
    "\n",
    "for index, row in data.iterrows():\n",
    "    students.append({\"name\": row[\"Name\"], \"age\": row[\"Age\"]})\n",
    "\n",
    "for st in students:\n",
    "    print(f\"{st.get(\"name\")} is {st.get(\"age\")} years old\")\n"
   ]
  },
  {
   "cell_type": "markdown",
   "id": "a885ce29",
   "metadata": {},
   "source": [
    "## Exercise 4: Use NumPy to create a 3x3 matrix and compute its determinant."
   ]
  },
  {
   "cell_type": "code",
   "execution_count": 19,
   "id": "b61ca0c1",
   "metadata": {},
   "outputs": [
    {
     "name": "stdout",
     "output_type": "stream",
     "text": [
      "-12.0\n"
     ]
    }
   ],
   "source": [
    "import numpy as np\n",
    "\n",
    "matrix = np.array([[1, 2, 3], [2, 3, 1], [3, 2, 1]])\n",
    "\n",
    "print(np.linalg.det(matrix))"
   ]
  }
 ],
 "metadata": {
  "kernelspec": {
   "display_name": ".venv",
   "language": "python",
   "name": "python3"
  },
  "language_info": {
   "codemirror_mode": {
    "name": "ipython",
    "version": 3
   },
   "file_extension": ".py",
   "mimetype": "text/x-python",
   "name": "python",
   "nbconvert_exporter": "python",
   "pygments_lexer": "ipython3",
   "version": "3.12.3"
  }
 },
 "nbformat": 4,
 "nbformat_minor": 5
}
